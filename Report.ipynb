{
 "cells": [
  {
   "cell_type": "markdown",
   "metadata": {},
   "source": [
    "# PPO Tennis implementation\n",
    "\n",
    "In this project two agents are playing tennis to reach average score of 0.5 over 100 episodes taking maximum over scores of the episode."
   ]
  },
  {
   "cell_type": "markdown",
   "metadata": {},
   "source": [
    "## 1. Learning algorithm\n",
    "\n",
    "I have chosen [PPO](https://arxiv.org/abs/1707.06347) as a learning algorithm. It showed outstanding performance and now I believe in reinforcement learning. \n",
    "\n",
    "1. First we get data from an enviroment. And save it.\n",
    "\n",
    "2. We iterate through this data backwards and calculating returns and advantages.\n",
    "\n",
    "```\n",
    "returns = rewards + self.config['hyperparameters']['discount_rate'] * dones * returns\n",
    "\n",
    "td_error = rewards + self.config['hyperparameters']['discount_rate'] * dones * next_value.detach() - value.detach()\n",
    "advantages = advantages * self.config['hyperparameters']['tau'] * self.config['hyperparameters']['discount_rate'] * dones + td_error\n",
    "```\n",
    "\n",
    "3. Then we shuffle indicies.\n",
    "\n",
    "4. Using advantages and returns we calculate `policy_loss` and `value_loss`:\n",
    "\n",
    "```\n",
    "_, log_probs, entropy_loss, values = self.ap(sampled_states, sampled_actions)\n",
    "ratio = (log_probs - sampled_log_probs_old).exp()\n",
    "obj = ratio * sampled_advantages\n",
    "obj_clipped = ratio.clamp(1.0 - self.config['hyperparameters']['ppo_clip'],\n",
    "                          1.0 + self.config['hyperparameters']['ppo_clip']) * sampled_advantages\n",
    "policy_loss = -torch.min(obj, obj_clipped).mean(0) - self.config['hyperparameters']['entropy_coefficent'] * entropy_loss.mean()\n",
    "\n",
    "```\n",
    "\n",
    "5. Then we apply backpropagation to the `policy_loss` and `value_loss`:\n",
    "\n",
    "```\n",
    "(policy_loss + value_loss).backward()\n",
    "\n",
    "```\n",
    "\n",
    "6. Not forgetting to clip the gradients which is a key component of PPO paper:\n",
    "\n",
    "```\n",
    "nn.utils.clip_grad_norm_(self.ap.parameters(), self.config['hyperparameters']['gradient_clip'])\n",
    "```\n",
    "\n"
   ]
  },
  {
   "cell_type": "markdown",
   "metadata": {},
   "source": [
    "# 2. Hyperparameters\n",
    "\n",
    "```\n",
    "config = {\n",
    "    'environment': {\n",
    "        'state_size': env_info.vector_observations.shape[1],\n",
    "        'action_size': 2,\n",
    "        'number_of_agents': 1\n",
    "    },\n",
    "    'pytorch': {\n",
    "        'device': \"cpu\"\n",
    "    },\n",
    "    'hyperparameters': {\n",
    "        'hidden_size': 64,\n",
    "        'discount_rate': 0.99,\n",
    "        'tau': 0.95,\n",
    "        'gradient_clip': 5,\n",
    "        'rollout_length': 2048,\n",
    "        'adam_learning_rate': 3e-4,\n",
    "        'adam_epsilon': 1e-5,\n",
    "        'optimization_epochs': 10,\n",
    "        'ppo_clip': 0.2,\n",
    "        'entropy_coefficent': 0.01,\n",
    "        'mini_batch_number': 32,\n",
    "    }\n",
    "}\n",
    "```\n",
    "\n",
    "I have chosen dictionary as a fast and convinient way to store the data. \n",
    "\n",
    "`state_size`, `action_size` is provided by the environment.\n",
    "\n",
    "`number_of_agents` is an important parameters as we are training two agents independenlty. I tried to use them together but with minor results.\n",
    "\n",
    "`'device': \"cpu\"` - I was forced to use `cpu` because we have to use PyTorch 0.4.0 which is compiled for CUDA 8.0 but my card is supported starting from CUDA 9.0.\n",
    "\n",
    "`hidden_size` - number of neurons plays an important part in an implementation. Although 128 neurons converge 50 epochs faster but I couldn't make agents act differently. Of course it mostly depends on gradient initialization but at 64 it plays like two humans.\n",
    "\n",
    "`discount_rate` - controls how future data is discounted. This is very well known formula in finance. I am happy to see that in reinforcement learning. I experimented with different values and 0.99 seems to viable parameter.\n",
    "\n",
    "`gradient_clip` - narrows the gradient but stabilizes the training.\n",
    "\n",
    "`rollout_length` - on how many micro episodes algorithm learns. Choosing too small number degradates the training results and lead to longer convergence.\n",
    "\n",
    "`ppo_clip` - controls clamp of the `ratio = (log_probs - sampled_log_probs_old).exp()`. It showed that clamping helps to narrow training and improve results.\n",
    "\n",
    "`adam_learning_rate` - 0.0005 my magic number for Adam. But for this particular case. `3e-4` works better.\n",
    "\n",
    "`entropy_coefficient` - parameter of `policy_loss`.\n",
    "\n",
    "\n",
    "\n",
    "\n"
   ]
  },
  {
   "cell_type": "markdown",
   "metadata": {},
   "source": [
    "# 3. Model\n",
    "\n",
    "I have chosen three layers because I wanted to see real or in other words different performance of two agents. I had convergence when two players act identically but it is not interesting. Although with fewer layers algorithm shows more immediate results but fails to get above 0.27 mean 100. Below is a part of a neural network that was used in Actor and Critic part.\n",
    "\n",
    "```\n",
    "class FC_VAR(nn.Module):\n",
    "    \n",
    "    def __init__(self, state_size, output_size, hidden_size, output_gate=None):\n",
    "        super(FC_VAR, self).__init__()\n",
    "        self.linear1 = nn.Linear(state_size, hidden_size)\n",
    "        self.linear2 = nn.Linear(hidden_size, hidden_size)\n",
    "        self.linear3 = nn.Linear(hidden_size, output_size)\n",
    "        self.output_gate = output_gate\n",
    "\n",
    "    def forward(self, x):\n",
    "        x = F.relu(self.linear1(x))\n",
    "        x = F.relu(self.linear2(x))\n",
    "        x = self.linear3(x)\n",
    "        if self.output_gate:\n",
    "            x = self.output_gate(x)\n",
    "        return x\n",
    "```"
   ]
  },
  {
   "cell_type": "markdown",
   "metadata": {},
   "source": [
    "# 4. Improvement\n",
    "\n",
    "1. Fewer layers and hidden neurons might be used to converge faster.\n",
    "2. Batch normalization can be used to improve performance.\n",
    "3. Clipping is a key success factor of PPO. Playing for more optimal clipping is posssible.\n",
    "4. Code might be converted to pure PyTorch tensor operations and it will improve speed. Also it might be nice to have an output of an environment as PyTorch tensors. CUDA in this case can be a valuable addition.\n",
    "5. `rollout_length` plays an important part in training. Finding right value is hard considering other parameters but is possible.\n"
   ]
  },
  {
   "cell_type": "markdown",
   "metadata": {},
   "source": [
    "# 5. Plot of rewards\n",
    "![Tennis - plot of rewards](images/Figure_1.png)\n",
    "\n"
   ]
  },
  {
   "cell_type": "markdown",
   "metadata": {},
   "source": [
    "# 6. Credits\n",
    "\n",
    "I got an idea of implementation and implemented from the scratch. Two sources that I want to mention: \n",
    "1. [Shangtong Zhang](https://github.com/ShangtongZhang/DeepRL)\n",
    "2. [Jeremi Kaczmarczyk](https://github.com/jknthn/reacher-ppo)"
   ]
  },
  {
   "cell_type": "code",
   "execution_count": null,
   "metadata": {},
   "outputs": [],
   "source": []
  }
 ],
 "metadata": {
  "kernelspec": {
   "display_name": "drlnd",
   "language": "python",
   "name": "drlnd"
  },
  "language_info": {
   "codemirror_mode": {
    "name": "ipython",
    "version": 3
   },
   "file_extension": ".py",
   "mimetype": "text/x-python",
   "name": "python",
   "nbconvert_exporter": "python",
   "pygments_lexer": "ipython3",
   "version": "3.6.9"
  }
 },
 "nbformat": 4,
 "nbformat_minor": 2
}
